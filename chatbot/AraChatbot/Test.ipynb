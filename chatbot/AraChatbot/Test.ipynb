{
 "cells": [
  {
   "cell_type": "code",
   "execution_count": 1,
   "metadata": {
    "collapsed": true
   },
   "outputs": [],
   "source": [
    "from messenger import Session\n",
    "test = Session()"
   ]
  },
  {
   "cell_type": "markdown",
   "metadata": {},
   "source": [
    "# 1 대 1 대화\n",
    "\n",
    "### Session.call(사용자 id , 질문 내용) ==> [사용자 id, 대답] 형식으로 반환"
   ]
  },
  {
   "cell_type": "code",
   "execution_count": 2,
   "metadata": {},
   "outputs": [
    {
     "data": {
      "text/plain": [
       "['a', '버스 쳇봇입니다.']"
      ]
     },
     "execution_count": 2,
     "metadata": {},
     "output_type": "execute_result"
    }
   ],
   "source": [
    "test.call('a', '버스')"
   ]
  },
  {
   "cell_type": "code",
   "execution_count": 9,
   "metadata": {},
   "outputs": [
    {
     "data": {
      "text/plain": [
       "['a', '시간표 쳇봇입니다.']"
      ]
     },
     "execution_count": 9,
     "metadata": {},
     "output_type": "execute_result"
    }
   ],
   "source": [
    "test.call('a', '시간')"
   ]
  },
  {
   "cell_type": "code",
   "execution_count": 3,
   "metadata": {},
   "outputs": [
    {
     "name": "stdout",
     "output_type": "stream",
     "text": [
      "\n",
      "알바 관련 게시물 5 개를 찾았습니다.\n",
      "\n",
      "[검색 게시물 목록]\n",
      "\n",
      "[1] [구인] 아두이노 납땜 작업 단기 알바\n",
      "[2] 피자마루 어은점 평일 저녁 (6~10pm) 알바 모집\n",
      "[3] 미세먼지 때문에 힘든 요즘! 편하게 집에서 알바해보실래요?\n",
      "[4] 카페그랑 토요일 알바분\n",
      "[5] 롯데리아 알바님\n",
      "\n",
      "관심있는 게시물이 있습니까?\n"
     ]
    }
   ],
   "source": [
    "print(test.call('a', '아라 알바')[-1])"
   ]
  },
  {
   "cell_type": "code",
   "execution_count": 4,
   "metadata": {},
   "outputs": [
    {
     "name": "stdout",
     "output_type": "stream",
     "text": [
      "몇번 게시물에 관심이 있습니까?\n"
     ]
    }
   ],
   "source": [
    "print(test.call('a', 'ㅇㅇ')[-1])"
   ]
  },
  {
   "cell_type": "code",
   "execution_count": 5,
   "metadata": {},
   "outputs": [
    {
     "name": "stdout",
     "output_type": "stream",
     "text": [
      "\n",
      "\"[구인] 아두이노 납땜 작업 단기 알바\" 게시물의 내용입니다.\n",
      "\n",
      "- 아두이노 회로 조립 및 납땜 작업 급여 : 40,000원 근무 일자 : 9월 28일 목요일 중 근무 시간 : 유동적, 예상 소요 시간 약 4시간 근무지 : 어은동 브레인게임존 관심있으신 분은 \"공일공-삼공공이-구이구오\"로 문자 부탁드립니다. 감사합니다.\n",
      "\n",
      "게시물 주소입니다: http://ara.kaist.ac.kr/board/Wanted/546212/?page_no=5\n",
      "\n",
      "더 보시겠습니까?\n"
     ]
    }
   ],
   "source": [
    "print(test.call('a', '1')[-1])"
   ]
  },
  {
   "cell_type": "code",
   "execution_count": 8,
   "metadata": {},
   "outputs": [
    {
     "name": "stdout",
     "output_type": "stream",
     "text": [
      "쳇봇 세션을 종료하겠습니다.\n"
     ]
    }
   ],
   "source": [
    "print(test.call('a', 'ㄴㄴ')[-1])"
   ]
  },
  {
   "cell_type": "markdown",
   "metadata": {},
   "source": [
    "# 예외 처리"
   ]
  },
  {
   "cell_type": "code",
   "execution_count": 12,
   "metadata": {},
   "outputs": [
    {
     "name": "stdout",
     "output_type": "stream",
     "text": [
      "다시 입력해주세요.\n"
     ]
    }
   ],
   "source": [
    "print(test.call('a', 'ㅁㄴㅇㄹ')[-1])"
   ]
  },
  {
   "cell_type": "code",
   "execution_count": 10,
   "metadata": {},
   "outputs": [
    {
     "name": "stdout",
     "output_type": "stream",
     "text": [
      "\n",
      "알바 관련 게시물 5 개를 찾았습니다.\n",
      "\n",
      "[검색 게시물 목록]\n",
      "\n",
      "[1] [구인] 아두이노 납땜 작업 단기 알바\n",
      "[2] 피자마루 어은점 평일 저녁 (6~10pm) 알바 모집\n",
      "[3] 미세먼지 때문에 힘든 요즘! 편하게 집에서 알바해보실래요?\n",
      "[4] 카페그랑 토요일 알바분\n",
      "[5] 롯데리아 알바님\n",
      "\n",
      "관심있는 게시물이 있습니까?\n"
     ]
    }
   ],
   "source": [
    "print(test.call('a', '아라 알바')[-1])"
   ]
  },
  {
   "cell_type": "code",
   "execution_count": 13,
   "metadata": {},
   "outputs": [
    {
     "name": "stdout",
     "output_type": "stream",
     "text": [
      "다시 입력해주세요.\n"
     ]
    }
   ],
   "source": [
    "print(test.call('a', 'asdf')[-1])"
   ]
  },
  {
   "cell_type": "markdown",
   "metadata": {},
   "source": [
    "# 여러명 동시접속"
   ]
  },
  {
   "cell_type": "code",
   "execution_count": 14,
   "metadata": {},
   "outputs": [
    {
     "name": "stdout",
     "output_type": "stream",
     "text": [
      "\n",
      "아이폰 관련 게시물 7 개를 찾았습니다.\n",
      "\n",
      "[검색 게시물 목록]\n",
      "\n",
      "[1] 맥북 사설수리점 문의(아이폰 아님)\n",
      "[2] 아이폰 액정 깨지신분?\n",
      "[3] [팝니다] 아이폰 5S 32기가 골드 팝니다!\n",
      "[4] [삽니다] 아이폰 구합니다\n",
      "[5] 아이폰 수리용 별 드라이버 구매 / 대여 원합니다\n",
      "[6] 학교 근처 아이폰 사설 수리점 추천좀 부탁드립니다..\n",
      "[7] 아이폰 분실폰 습득하였습니다 (아이폰 6 혹은 6S 추정)\n",
      "\n",
      "관심있는 게시물이 있습니까?\n"
     ]
    }
   ],
   "source": [
    "print(test.call('b', '아라 아이폰')[-1])"
   ]
  },
  {
   "cell_type": "code",
   "execution_count": 15,
   "metadata": {},
   "outputs": [
    {
     "name": "stdout",
     "output_type": "stream",
     "text": [
      "\n",
      "갤럭시 관련 게시물 2 개를 찾았습니다.\n",
      "\n",
      "[검색 게시물 목록]\n",
      "\n",
      "[1] 삼성 갤럭시 ON7 로즈골드색 분실\n",
      "[2] 갤럭시 노트 5 휴대폰 분실하였습니다. (빨간색 라이언 그려진 케이스)\n",
      "\n",
      "관심있는 게시물이 있습니까?\n"
     ]
    }
   ],
   "source": [
    "print(test.call('c', '아라 갤럭시')[-1])"
   ]
  },
  {
   "cell_type": "code",
   "execution_count": 16,
   "metadata": {},
   "outputs": [
    {
     "name": "stdout",
     "output_type": "stream",
     "text": [
      "몇번 게시물에 관심이 있습니까?\n"
     ]
    }
   ],
   "source": [
    "print(test.call('b', 'ㅇㅇ')[-1])"
   ]
  },
  {
   "cell_type": "code",
   "execution_count": 17,
   "metadata": {},
   "outputs": [
    {
     "name": "stdout",
     "output_type": "stream",
     "text": [
      "\n",
      "\"[삽니다] 아이폰 구합니다\" 게시물의 내용입니다.\n",
      "\n",
      "핸드폰 카메라가 고장났는데 핸드폰 바꾸려면 한달정도 남아서요ㅜㅜ 사진 찍을 용도로만 쓸 아이폰 구합니다! 한달간 안쓰는 아이폰 빌려주실 수 있는 분(대여료 당연히 드려요!) 혹은 아이폰 파실분 구합니다ㅠㅅㅠ! 010 이이31 28일오 로 문자 부탁드립니다! .\n",
      "\n",
      "게시물 주소입니다: http://ara.kaist.ac.kr/board/BuySell/547105/?page_no=3\n",
      "\n",
      "더 보시겠습니까?\n"
     ]
    }
   ],
   "source": [
    "print(test.call('b', '4')[-1])"
   ]
  },
  {
   "cell_type": "code",
   "execution_count": 18,
   "metadata": {},
   "outputs": [
    {
     "name": "stdout",
     "output_type": "stream",
     "text": [
      "몇번 게시물에 관심이 있습니까?\n"
     ]
    }
   ],
   "source": [
    "print(test.call('c', 'ㅇㅇ')[-1])"
   ]
  },
  {
   "cell_type": "markdown",
   "metadata": {},
   "source": [
    "# 여러명 동시접속 cont."
   ]
  },
  {
   "cell_type": "code",
   "execution_count": 19,
   "metadata": {},
   "outputs": [
    {
     "name": "stdout",
     "output_type": "stream",
     "text": [
      "쳇봇 세션을 종료하겠습니다.\n"
     ]
    }
   ],
   "source": [
    "print(test.call('b', 'ㄴㄴ')[-1])"
   ]
  },
  {
   "cell_type": "code",
   "execution_count": 20,
   "metadata": {},
   "outputs": [
    {
     "name": "stdout",
     "output_type": "stream",
     "text": [
      "\n",
      "\"삼성 갤럭시 ON7 로즈골드색 분실\" 게시물의 내용입니다.\n",
      "\n",
      "북측 교분~매점 지역에서 로즈골드색 삼성 갤럭시 ON7 분실하였는데 습득하신분 연락기다리겠습니다 ㅜㅜ guldam@kaist.ac.kr\n",
      "\n",
      "게시물 주소입니다: http://ara.kaist.ac.kr/board/Lostfound/545482/?page_no=3\n",
      "\n",
      "더 보시겠습니까?\n"
     ]
    }
   ],
   "source": [
    "print(test.call('c', '1')[-1])"
   ]
  },
  {
   "cell_type": "code",
   "execution_count": 21,
   "metadata": {},
   "outputs": [
    {
     "name": "stdout",
     "output_type": "stream",
     "text": [
      "쳇봇 세션을 종료하겠습니다.\n"
     ]
    }
   ],
   "source": [
    "print(test.call('c', 'ㄴㄴ')[-1])"
   ]
  },
  {
   "cell_type": "markdown",
   "metadata": {},
   "source": [
    "# Ara 대화 중간에 버스/시간표 물을 경우"
   ]
  },
  {
   "cell_type": "code",
   "execution_count": 23,
   "metadata": {},
   "outputs": [
    {
     "name": "stdout",
     "output_type": "stream",
     "text": [
      "\n",
      "자전거 관련 게시물 8 개를 찾았습니다.\n",
      "\n",
      "[검색 게시물 목록]\n",
      "\n",
      "[1] 자전거 자물쇠\n",
      "[2] [팝니다] 새 자전거 싸게 팝니다.\n",
      "[3] 지난 주말 전산과 정문 앞 자전거 도난 제보 요청\n",
      "[4] 분실 자전거 주인을 찾습니다\n",
      "[5] 자전거 도난방지 안내문/Bicycle Theft Notice\n",
      "[6] 자전거 분실 (8월9일 새벽 4시경 코인노래방앞)\n",
      "[7] [KAIST Riding Club; KRC] 카이스트 자전거 동아리 KRC 입니다!\n",
      "[8] 카이스트에 자전거 동아리도 있음.\n",
      "\n",
      "관심있는 게시물이 있습니까?\n"
     ]
    }
   ],
   "source": [
    "print(test.call('d', '아라 자전거')[-1])"
   ]
  },
  {
   "cell_type": "code",
   "execution_count": 24,
   "metadata": {},
   "outputs": [
    {
     "name": "stdout",
     "output_type": "stream",
     "text": [
      "버스 쳇봇입니다.\n",
      "\n",
      "아라 쳇봇 대화 기록은 초기화 되었습니다.\n"
     ]
    }
   ],
   "source": [
    "print(test.call('d', '버스')[-1])"
   ]
  },
  {
   "cell_type": "code",
   "execution_count": 25,
   "metadata": {},
   "outputs": [
    {
     "name": "stdout",
     "output_type": "stream",
     "text": [
      "\n",
      "자전거 관련 게시물 8 개를 찾았습니다.\n",
      "\n",
      "[검색 게시물 목록]\n",
      "\n",
      "[1] 자전거 자물쇠\n",
      "[2] [팝니다] 새 자전거 싸게 팝니다.\n",
      "[3] 지난 주말 전산과 정문 앞 자전거 도난 제보 요청\n",
      "[4] 분실 자전거 주인을 찾습니다\n",
      "[5] 자전거 도난방지 안내문/Bicycle Theft Notice\n",
      "[6] 자전거 분실 (8월9일 새벽 4시경 코인노래방앞)\n",
      "[7] [KAIST Riding Club; KRC] 카이스트 자전거 동아리 KRC 입니다!\n",
      "[8] 카이스트에 자전거 동아리도 있음.\n",
      "\n",
      "관심있는 게시물이 있습니까?\n"
     ]
    }
   ],
   "source": [
    "print(test.call('d', '아라 자전거')[-1])"
   ]
  },
  {
   "cell_type": "code",
   "execution_count": null,
   "metadata": {
    "collapsed": true
   },
   "outputs": [],
   "source": []
  }
 ],
 "metadata": {
  "kernelspec": {
   "display_name": "Python 3",
   "language": "python",
   "name": "python3"
  },
  "language_info": {
   "codemirror_mode": {
    "name": "ipython",
    "version": 3
   },
   "file_extension": ".py",
   "mimetype": "text/x-python",
   "name": "python",
   "nbconvert_exporter": "python",
   "pygments_lexer": "ipython3",
   "version": "3.6.1"
  }
 },
 "nbformat": 4,
 "nbformat_minor": 2
}
